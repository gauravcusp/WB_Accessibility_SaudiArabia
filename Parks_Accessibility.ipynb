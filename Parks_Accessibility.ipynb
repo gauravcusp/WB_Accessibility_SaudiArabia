{
 "cells": [
  {
   "cell_type": "code",
   "execution_count": 2,
   "metadata": {},
   "outputs": [
    {
     "name": "stdout",
     "output_type": "stream",
     "text": [
      "Populating the interactive namespace from numpy and matplotlib\n"
     ]
    }
   ],
   "source": [
    "import warnings\n",
    "warnings.filterwarnings(\"ignore\")\n",
    "import pandas as pd\n",
    "from pandana.loaders import osm\n",
    "import pandana\n",
    "%pylab inline\n",
    "\n",
    "import numpy as np\n",
    "import osmnx as ox\n",
    "import networkx as nx\n",
    "import peartree\n",
    "import sys, os\n",
    "import geopandas as gpd\n",
    "#import rasterio\n",
    "from pandana.loaders import osm\n",
    "from shapely.geometry import Point\n",
    "import mplleaflet as mpll\n",
    "from osgeo import ogr\n",
    "from math import ceil, cos, pi\n",
    "import geocoder\n",
    "\n",
    "#import GOSTnet as gn\n",
    "from make_fishnet import make_fishnet"
   ]
  },
  {
   "cell_type": "markdown",
   "metadata": {},
   "source": [
    "## Analyzing accessibility to parks in Jeddah, Saudi Arabia"
   ]
  },
  {
   "cell_type": "code",
   "execution_count": 24,
   "metadata": {},
   "outputs": [],
   "source": [
    "city = (\"Jeddah, Saudi Arabia\")\n",
    "city = geocoder.arcgis(city)"
   ]
  },
  {
   "cell_type": "code",
   "execution_count": 25,
   "metadata": {},
   "outputs": [
    {
     "data": {
      "text/html": [
       "<div>\n",
       "<style scoped>\n",
       "    .dataframe tbody tr th:only-of-type {\n",
       "        vertical-align: middle;\n",
       "    }\n",
       "\n",
       "    .dataframe tbody tr th {\n",
       "        vertical-align: top;\n",
       "    }\n",
       "\n",
       "    .dataframe thead th {\n",
       "        text-align: right;\n",
       "    }\n",
       "</style>\n",
       "<table border=\"1\" class=\"dataframe\">\n",
       "  <thead>\n",
       "    <tr style=\"text-align: right;\">\n",
       "      <th></th>\n",
       "      <th>lat</th>\n",
       "      <th>lon</th>\n",
       "      <th>geometry</th>\n",
       "    </tr>\n",
       "  </thead>\n",
       "  <tbody>\n",
       "    <tr>\n",
       "      <th>northeast</th>\n",
       "      <td>22.02072</td>\n",
       "      <td>39.72179</td>\n",
       "      <td>POINT (39.72179000000007 22.02072000000005)</td>\n",
       "    </tr>\n",
       "    <tr>\n",
       "      <th>southwest</th>\n",
       "      <td>20.94272</td>\n",
       "      <td>38.64379</td>\n",
       "      <td>POINT (38.64379000000007 20.94272000000005)</td>\n",
       "    </tr>\n",
       "  </tbody>\n",
       "</table>\n",
       "</div>"
      ],
      "text/plain": [
       "                lat       lon                                     geometry\n",
       "northeast  22.02072  39.72179  POINT (39.72179000000007 22.02072000000005)\n",
       "southwest  20.94272  38.64379  POINT (38.64379000000007 20.94272000000005)"
      ]
     },
     "execution_count": 25,
     "metadata": {},
     "output_type": "execute_result"
    }
   ],
   "source": [
    "bbox = gpd.GeoDataFrame(city.bbox).T\n",
    "\n",
    "bbox.columns=['lat','lon']\n",
    "bbox['geometry'] = (list(zip(bbox.lon,bbox.lat)))\n",
    "bbox['geometry'] = bbox.geometry.apply(lambda x: Point(x))\n",
    "bbox.set_geometry(bbox['geometry'])"
   ]
  },
  {
   "cell_type": "code",
   "execution_count": 26,
   "metadata": {},
   "outputs": [
    {
     "data": {
      "text/html": [
       "<iframe src=\"data:text/html;base64,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\" width=\"100%\" height=\"240\"></iframe>"
      ],
      "text/plain": [
       "<IPython.core.display.HTML object>"
      ]
     },
     "execution_count": 26,
     "metadata": {},
     "output_type": "execute_result"
    }
   ],
   "source": [
    "ax = bbox.plot()\n",
    "mpll.display(fig=ax.figure)"
   ]
  },
  {
   "cell_type": "code",
   "execution_count": 27,
   "metadata": {},
   "outputs": [
    {
     "data": {
      "text/plain": [
       "[20.94272000000005, 38.64379000000007, 22.020720000000054, 39.72179000000007]"
      ]
     },
     "execution_count": 27,
     "metadata": {},
     "output_type": "execute_result"
    }
   ],
   "source": [
    "coords = [city.bbox['southwest'][0], city.bbox['southwest'][1], city.bbox['northeast'][0], city.bbox['northeast'][1]] \n",
    "coords"
   ]
  },
  {
   "cell_type": "code",
   "execution_count": 29,
   "metadata": {},
   "outputs": [],
   "source": [
    "parks_file = pd.read_excel('Final_Parks/Jeddah Parks.xlsx')\n",
    "parks_shp = gpd.GeoDataFrame(parks_file)"
   ]
  },
  {
   "cell_type": "code",
   "execution_count": 30,
   "metadata": {},
   "outputs": [
    {
     "data": {
      "text/html": [
       "<div>\n",
       "<style scoped>\n",
       "    .dataframe tbody tr th:only-of-type {\n",
       "        vertical-align: middle;\n",
       "    }\n",
       "\n",
       "    .dataframe tbody tr th {\n",
       "        vertical-align: top;\n",
       "    }\n",
       "\n",
       "    .dataframe thead th {\n",
       "        text-align: right;\n",
       "    }\n",
       "</style>\n",
       "<table border=\"1\" class=\"dataframe\">\n",
       "  <thead>\n",
       "    <tr style=\"text-align: right;\">\n",
       "      <th></th>\n",
       "      <th>No</th>\n",
       "      <th>Name_E</th>\n",
       "      <th>Name_A</th>\n",
       "      <th>Area_m2</th>\n",
       "      <th>Landscape_Area_m2</th>\n",
       "      <th>E</th>\n",
       "      <th>N</th>\n",
       "    </tr>\n",
       "  </thead>\n",
       "  <tbody>\n",
       "    <tr>\n",
       "      <th>0</th>\n",
       "      <td>1</td>\n",
       "      <td>Aba Al Khaiyl</td>\n",
       "      <td>أبا الخيل</td>\n",
       "      <td>6580</td>\n",
       "      <td>4500.0</td>\n",
       "      <td>39.198446</td>\n",
       "      <td>21.600360</td>\n",
       "    </tr>\n",
       "    <tr>\n",
       "      <th>1</th>\n",
       "      <td>2</td>\n",
       "      <td>Al Ajaweed</td>\n",
       "      <td>الأجاويد</td>\n",
       "      <td>4200</td>\n",
       "      <td>2000.0</td>\n",
       "      <td>39.299186</td>\n",
       "      <td>21.397891</td>\n",
       "    </tr>\n",
       "    <tr>\n",
       "      <th>2</th>\n",
       "      <td>3</td>\n",
       "      <td>Al Ahwal</td>\n",
       "      <td>الأحوال</td>\n",
       "      <td>4021</td>\n",
       "      <td>2119.0</td>\n",
       "      <td>39.170122</td>\n",
       "      <td>21.623820</td>\n",
       "    </tr>\n",
       "    <tr>\n",
       "      <th>3</th>\n",
       "      <td>4</td>\n",
       "      <td>Al Odabaa</td>\n",
       "      <td>الأدباء</td>\n",
       "      <td>6750</td>\n",
       "      <td>1020.0</td>\n",
       "      <td>39.211074</td>\n",
       "      <td>21.560264</td>\n",
       "    </tr>\n",
       "    <tr>\n",
       "      <th>4</th>\n",
       "      <td>5</td>\n",
       "      <td>Al Ashbal</td>\n",
       "      <td>الأشبال</td>\n",
       "      <td>1955</td>\n",
       "      <td>747.0</td>\n",
       "      <td>39.193307</td>\n",
       "      <td>21.536075</td>\n",
       "    </tr>\n",
       "  </tbody>\n",
       "</table>\n",
       "</div>"
      ],
      "text/plain": [
       "   No         Name_E     Name_A  Area_m2  Landscape_Area_m2          E  \\\n",
       "0   1  Aba Al Khaiyl  أبا الخيل     6580             4500.0  39.198446   \n",
       "1   2     Al Ajaweed   الأجاويد     4200             2000.0  39.299186   \n",
       "2   3       Al Ahwal    الأحوال     4021             2119.0  39.170122   \n",
       "3   4      Al Odabaa    الأدباء     6750             1020.0  39.211074   \n",
       "4   5      Al Ashbal    الأشبال     1955              747.0  39.193307   \n",
       "\n",
       "           N  \n",
       "0  21.600360  \n",
       "1  21.397891  \n",
       "2  21.623820  \n",
       "3  21.560264  \n",
       "4  21.536075  "
      ]
     },
     "execution_count": 30,
     "metadata": {},
     "output_type": "execute_result"
    }
   ],
   "source": [
    "parks_file.head()"
   ]
  },
  {
   "cell_type": "code",
   "execution_count": 31,
   "metadata": {},
   "outputs": [],
   "source": [
    "parks_shp['geometry'] = (list(zip(parks_shp.E,parks_shp.N)))\n",
    "parks_shp['geometry'] = parks_shp.geometry.apply(lambda x: Point(x))"
   ]
  },
  {
   "cell_type": "code",
   "execution_count": 33,
   "metadata": {},
   "outputs": [
    {
     "data": {
      "text/html": [
       "<div>\n",
       "<style scoped>\n",
       "    .dataframe tbody tr th:only-of-type {\n",
       "        vertical-align: middle;\n",
       "    }\n",
       "\n",
       "    .dataframe tbody tr th {\n",
       "        vertical-align: top;\n",
       "    }\n",
       "\n",
       "    .dataframe thead th {\n",
       "        text-align: right;\n",
       "    }\n",
       "</style>\n",
       "<table border=\"1\" class=\"dataframe\">\n",
       "  <thead>\n",
       "    <tr style=\"text-align: right;\">\n",
       "      <th></th>\n",
       "      <th>No</th>\n",
       "      <th>Name_E</th>\n",
       "      <th>Name_A</th>\n",
       "      <th>Area_m2</th>\n",
       "      <th>Landscape_Area_m2</th>\n",
       "      <th>E</th>\n",
       "      <th>N</th>\n",
       "      <th>geometry</th>\n",
       "    </tr>\n",
       "  </thead>\n",
       "  <tbody>\n",
       "    <tr>\n",
       "      <th>0</th>\n",
       "      <td>1</td>\n",
       "      <td>Aba Al Khaiyl</td>\n",
       "      <td>أبا الخيل</td>\n",
       "      <td>6580</td>\n",
       "      <td>4500.0</td>\n",
       "      <td>39.198446</td>\n",
       "      <td>21.600360</td>\n",
       "      <td>POINT (39.198446 21.60036)</td>\n",
       "    </tr>\n",
       "    <tr>\n",
       "      <th>1</th>\n",
       "      <td>2</td>\n",
       "      <td>Al Ajaweed</td>\n",
       "      <td>الأجاويد</td>\n",
       "      <td>4200</td>\n",
       "      <td>2000.0</td>\n",
       "      <td>39.299186</td>\n",
       "      <td>21.397891</td>\n",
       "      <td>POINT (39.299186 21.3978907)</td>\n",
       "    </tr>\n",
       "    <tr>\n",
       "      <th>2</th>\n",
       "      <td>3</td>\n",
       "      <td>Al Ahwal</td>\n",
       "      <td>الأحوال</td>\n",
       "      <td>4021</td>\n",
       "      <td>2119.0</td>\n",
       "      <td>39.170122</td>\n",
       "      <td>21.623820</td>\n",
       "      <td>POINT (39.170122 21.62382)</td>\n",
       "    </tr>\n",
       "    <tr>\n",
       "      <th>3</th>\n",
       "      <td>4</td>\n",
       "      <td>Al Odabaa</td>\n",
       "      <td>الأدباء</td>\n",
       "      <td>6750</td>\n",
       "      <td>1020.0</td>\n",
       "      <td>39.211074</td>\n",
       "      <td>21.560264</td>\n",
       "      <td>POINT (39.211074 21.560264)</td>\n",
       "    </tr>\n",
       "    <tr>\n",
       "      <th>4</th>\n",
       "      <td>5</td>\n",
       "      <td>Al Ashbal</td>\n",
       "      <td>الأشبال</td>\n",
       "      <td>1955</td>\n",
       "      <td>747.0</td>\n",
       "      <td>39.193307</td>\n",
       "      <td>21.536075</td>\n",
       "      <td>POINT (39.193307 21.536075)</td>\n",
       "    </tr>\n",
       "  </tbody>\n",
       "</table>\n",
       "</div>"
      ],
      "text/plain": [
       "   No         Name_E     Name_A  Area_m2  Landscape_Area_m2          E  \\\n",
       "0   1  Aba Al Khaiyl  أبا الخيل     6580             4500.0  39.198446   \n",
       "1   2     Al Ajaweed   الأجاويد     4200             2000.0  39.299186   \n",
       "2   3       Al Ahwal    الأحوال     4021             2119.0  39.170122   \n",
       "3   4      Al Odabaa    الأدباء     6750             1020.0  39.211074   \n",
       "4   5      Al Ashbal    الأشبال     1955              747.0  39.193307   \n",
       "\n",
       "           N                      geometry  \n",
       "0  21.600360    POINT (39.198446 21.60036)  \n",
       "1  21.397891  POINT (39.299186 21.3978907)  \n",
       "2  21.623820    POINT (39.170122 21.62382)  \n",
       "3  21.560264   POINT (39.211074 21.560264)  \n",
       "4  21.536075   POINT (39.193307 21.536075)  "
      ]
     },
     "execution_count": 33,
     "metadata": {},
     "output_type": "execute_result"
    }
   ],
   "source": [
    "parks_shp.head()"
   ]
  },
  {
   "cell_type": "code",
   "execution_count": 34,
   "metadata": {},
   "outputs": [
    {
     "name": "stdout",
     "output_type": "stream",
     "text": [
      "Requesting network data within bounding box from Overpass API in 9 request(s)\n",
      "Posting to http://www.overpass-api.de/api/interpreter with timeout=180, \"{'data': '[out:json][timeout:180];(way[\"highway\"][\"highway\"!~\"motor|proposed|construction|abandoned|platform|raceway\"][\"foot\"!~\"no\"][\"pedestrians\"!~\"no\"](20.94272000,38.64379000,21.30284646,39.00313451);>;);out;'}\"\n",
      "Downloaded 0.3KB from www.overpass-api.de in 0.32 seconds\n",
      "Posting to http://www.overpass-api.de/api/interpreter with timeout=180, \"{'data': '[out:json][timeout:180];(way[\"highway\"][\"highway\"!~\"motor|proposed|construction|abandoned|platform|raceway\"][\"foot\"!~\"no\"][\"pedestrians\"!~\"no\"](21.30246954,38.64380393,21.66258576,39.00314222);>;);out;'}\"\n",
      "Downloaded 0.3KB from www.overpass-api.de in 0.29 seconds\n",
      "Posting to http://www.overpass-api.de/api/interpreter with timeout=180, \"{'data': '[out:json][timeout:180];(way[\"highway\"][\"highway\"!~\"motor|proposed|construction|abandoned|platform|raceway\"][\"foot\"!~\"no\"][\"pedestrians\"!~\"no\"](21.66220374,38.64379000,22.02150791,39.00315008);>;);out;'}\"\n",
      "Downloaded 159.3KB from www.overpass-api.de in 0.45 seconds\n",
      "Posting to http://www.overpass-api.de/api/interpreter with timeout=180, \"{'data': '[out:json][timeout:180];(way[\"highway\"][\"highway\"!~\"motor|proposed|construction|abandoned|platform|raceway\"][\"foot\"!~\"no\"][\"pedestrians\"!~\"no\"](21.66218630,39.00314223,22.02150791,39.36514405);>;);out;'}\"\n",
      "Downloaded 3,887.2KB from www.overpass-api.de in 0.85 seconds\n",
      "Posting to http://www.overpass-api.de/api/interpreter with timeout=180, \"{'data': '[out:json][timeout:180];(way[\"highway\"][\"highway\"!~\"motor|proposed|construction|abandoned|platform|raceway\"][\"foot\"!~\"no\"][\"pedestrians\"!~\"no\"](21.66101711,39.36423263,22.02150492,39.72179000);>;);out;'}\"\n",
      "Downloaded 612.6KB from www.overpass-api.de in 0.45 seconds\n",
      "Posting to http://www.overpass-api.de/api/interpreter with timeout=180, \"{'data': '[out:json][timeout:180];(way[\"highway\"][\"highway\"!~\"motor|proposed|construction|abandoned|platform|raceway\"][\"foot\"!~\"no\"][\"pedestrians\"!~\"no\"](21.30129877,39.36333893,21.66218630,39.72176183);>;);out;'}\"\n",
      "Downloaded 924.2KB from www.overpass-api.de in 0.87 seconds\n",
      "Posting to http://www.overpass-api.de/api/interpreter with timeout=180, \"{'data': '[out:json][timeout:180];(way[\"highway\"][\"highway\"!~\"motor|proposed|construction|abandoned|platform|raceway\"][\"foot\"!~\"no\"][\"pedestrians\"!~\"no\"](20.94272000,39.36246564,21.30245427,39.72179000);>;);out;'}\"\n",
      "Downloaded 186.1KB from www.overpass-api.de in 0.74 seconds\n",
      "Posting to http://www.overpass-api.de/api/interpreter with timeout=180, \"{'data': '[out:json][timeout:180];(way[\"highway\"][\"highway\"!~\"motor|proposed|construction|abandoned|platform|raceway\"][\"foot\"!~\"no\"][\"pedestrians\"!~\"no\"](20.94347674,39.00312697,21.30284646,39.36333893);>;);out;'}\"\n",
      "Downloaded 387.1KB from www.overpass-api.de in 0.81 seconds\n",
      "Posting to http://www.overpass-api.de/api/interpreter with timeout=180, \"{'data': '[out:json][timeout:180];(way[\"highway\"][\"highway\"!~\"motor|proposed|construction|abandoned|platform|raceway\"][\"foot\"!~\"no\"][\"pedestrians\"!~\"no\"](21.30245427,39.00313452,21.66258576,39.36423262);>;);out;'}\"\n",
      "Downloaded 12,326.9KB from www.overpass-api.de in 2.49 seconds\n",
      "Downloaded OSM network data within bounding box from Overpass API in 9 request(s) and 7.66 seconds\n",
      "5,756 duplicate records removed. Took 1.68 seconds\n",
      "Returning OSM data with 132,032 nodes and 32,963 ways...\n",
      "Edge node pairs completed. Took 87.14 seconds\n",
      "Returning processed graph with 62,528 nodes and 95,268 edges...\n",
      "Completed OSM data download and Pandana node and edge table creation in 97.60 seconds\n"
     ]
    }
   ],
   "source": [
    "network = osm.pdna_network_from_bbox(coords[0], coords[1], coords[2], coords[3])"
   ]
  },
  {
   "cell_type": "code",
   "execution_count": 35,
   "metadata": {},
   "outputs": [],
   "source": [
    "nodes_gdf = gpd.GeoDataFrame(network.nodes_df)\n",
    "nodes_gdf['geometry'] = (list(zip(nodes_gdf.x,nodes_gdf.y)))\n",
    "nodes_gdf['geometry'] = nodes_gdf.geometry.apply(lambda x: Point(x))"
   ]
  },
  {
   "cell_type": "code",
   "execution_count": 36,
   "metadata": {},
   "outputs": [
    {
     "data": {
      "text/html": [
       "<div>\n",
       "<style scoped>\n",
       "    .dataframe tbody tr th:only-of-type {\n",
       "        vertical-align: middle;\n",
       "    }\n",
       "\n",
       "    .dataframe tbody tr th {\n",
       "        vertical-align: top;\n",
       "    }\n",
       "\n",
       "    .dataframe thead th {\n",
       "        text-align: right;\n",
       "    }\n",
       "</style>\n",
       "<table border=\"1\" class=\"dataframe\">\n",
       "  <thead>\n",
       "    <tr style=\"text-align: right;\">\n",
       "      <th></th>\n",
       "      <th>x</th>\n",
       "      <th>y</th>\n",
       "      <th>geometry</th>\n",
       "    </tr>\n",
       "    <tr>\n",
       "      <th>id</th>\n",
       "      <th></th>\n",
       "      <th></th>\n",
       "      <th></th>\n",
       "    </tr>\n",
       "  </thead>\n",
       "  <tbody>\n",
       "    <tr>\n",
       "      <th>287894981</th>\n",
       "      <td>39.152753</td>\n",
       "      <td>21.630046</td>\n",
       "      <td>POINT (39.152753 21.6300455)</td>\n",
       "    </tr>\n",
       "    <tr>\n",
       "      <th>287895278</th>\n",
       "      <td>39.158657</td>\n",
       "      <td>21.600978</td>\n",
       "      <td>POINT (39.1586573 21.600978)</td>\n",
       "    </tr>\n",
       "    <tr>\n",
       "      <th>287895279</th>\n",
       "      <td>39.159100</td>\n",
       "      <td>21.599653</td>\n",
       "      <td>POINT (39.1591004 21.5996526)</td>\n",
       "    </tr>\n",
       "    <tr>\n",
       "      <th>287895377</th>\n",
       "      <td>39.159221</td>\n",
       "      <td>21.599682</td>\n",
       "      <td>POINT (39.159221 21.5996818)</td>\n",
       "    </tr>\n",
       "    <tr>\n",
       "      <th>289240819</th>\n",
       "      <td>39.136038</td>\n",
       "      <td>21.543107</td>\n",
       "      <td>POINT (39.1360382 21.543107)</td>\n",
       "    </tr>\n",
       "  </tbody>\n",
       "</table>\n",
       "</div>"
      ],
      "text/plain": [
       "                   x          y                       geometry\n",
       "id                                                            \n",
       "287894981  39.152753  21.630046   POINT (39.152753 21.6300455)\n",
       "287895278  39.158657  21.600978   POINT (39.1586573 21.600978)\n",
       "287895279  39.159100  21.599653  POINT (39.1591004 21.5996526)\n",
       "287895377  39.159221  21.599682   POINT (39.159221 21.5996818)\n",
       "289240819  39.136038  21.543107   POINT (39.1360382 21.543107)"
      ]
     },
     "execution_count": 36,
     "metadata": {},
     "output_type": "execute_result"
    }
   ],
   "source": [
    "nodes_gdf.head()"
   ]
  },
  {
   "cell_type": "code",
   "execution_count": 38,
   "metadata": {},
   "outputs": [
    {
     "data": {
      "text/plain": [
       "<matplotlib.axes._subplots.AxesSubplot at 0x7f0377f29400>"
      ]
     },
     "execution_count": 38,
     "metadata": {},
     "output_type": "execute_result"
    },
    {
     "data": {
      "image/png": "[encoded data removed]",
      "text/plain": [
       "<Figure size 432x288 with 1 Axes>"
      ]
     },
     "metadata": {
      "needs_background": "light"
     },
     "output_type": "display_data"
    }
   ],
   "source": [
    "ax = nodes_gdf.plot( color='grey', alpha=0.8)\n",
    "parks_shp.plot(ax=ax,color='r', alpha=0.5)"
   ]
  },
  {
   "cell_type": "code",
   "execution_count": 48,
   "metadata": {},
   "outputs": [],
   "source": [
    "network.precompute(3000) # precomputes the nodes that are reachable within 1000 meters"
   ]
  },
  {
   "cell_type": "code",
   "execution_count": 51,
   "metadata": {},
   "outputs": [],
   "source": [
    "distance = 3000\n",
    "num_pois = 5"
   ]
  },
  {
   "cell_type": "code",
   "execution_count": 52,
   "metadata": {},
   "outputs": [
    {
     "name": "stdout",
     "output_type": "stream",
     "text": [
      "62,528 nodes\n"
     ]
    },
    {
     "data": {
      "text/html": [
       "<div>\n",
       "<style scoped>\n",
       "    .dataframe tbody tr th:only-of-type {\n",
       "        vertical-align: middle;\n",
       "    }\n",
       "\n",
       "    .dataframe tbody tr th {\n",
       "        vertical-align: top;\n",
       "    }\n",
       "\n",
       "    .dataframe thead th {\n",
       "        text-align: right;\n",
       "    }\n",
       "</style>\n",
       "<table border=\"1\" class=\"dataframe\">\n",
       "  <thead>\n",
       "    <tr style=\"text-align: right;\">\n",
       "      <th></th>\n",
       "      <th>1</th>\n",
       "      <th>2</th>\n",
       "      <th>3</th>\n",
       "      <th>4</th>\n",
       "      <th>5</th>\n",
       "    </tr>\n",
       "    <tr>\n",
       "      <th>id</th>\n",
       "      <th></th>\n",
       "      <th></th>\n",
       "      <th></th>\n",
       "      <th></th>\n",
       "      <th></th>\n",
       "    </tr>\n",
       "  </thead>\n",
       "  <tbody>\n",
       "    <tr>\n",
       "      <th>287894981</th>\n",
       "      <td>972.318970</td>\n",
       "      <td>1011.091980</td>\n",
       "      <td>1586.401978</td>\n",
       "      <td>1639.077026</td>\n",
       "      <td>1712.831055</td>\n",
       "    </tr>\n",
       "    <tr>\n",
       "      <th>287895278</th>\n",
       "      <td>1602.375977</td>\n",
       "      <td>1708.558960</td>\n",
       "      <td>1917.737061</td>\n",
       "      <td>2078.794922</td>\n",
       "      <td>2181.822998</td>\n",
       "    </tr>\n",
       "    <tr>\n",
       "      <th>287895279</th>\n",
       "      <td>1756.751953</td>\n",
       "      <td>1862.935059</td>\n",
       "      <td>2072.113037</td>\n",
       "      <td>2233.170898</td>\n",
       "      <td>2336.198975</td>\n",
       "    </tr>\n",
       "    <tr>\n",
       "      <th>287895377</th>\n",
       "      <td>1618.792969</td>\n",
       "      <td>1964.005981</td>\n",
       "      <td>2146.300049</td>\n",
       "      <td>2260.277100</td>\n",
       "      <td>2264.760010</td>\n",
       "    </tr>\n",
       "    <tr>\n",
       "      <th>289240819</th>\n",
       "      <td>1962.767944</td>\n",
       "      <td>2247.072998</td>\n",
       "      <td>2577.572021</td>\n",
       "      <td>2677.474121</td>\n",
       "      <td>2714.552979</td>\n",
       "    </tr>\n",
       "  </tbody>\n",
       "</table>\n",
       "</div>"
      ],
      "text/plain": [
       "                     1            2            3            4            5\n",
       "id                                                                        \n",
       "287894981   972.318970  1011.091980  1586.401978  1639.077026  1712.831055\n",
       "287895278  1602.375977  1708.558960  1917.737061  2078.794922  2181.822998\n",
       "287895279  1756.751953  1862.935059  2072.113037  2233.170898  2336.198975\n",
       "287895377  1618.792969  1964.005981  2146.300049  2260.277100  2264.760010\n",
       "289240819  1962.767944  2247.072998  2577.572021  2677.474121  2714.552979"
      ]
     },
     "execution_count": 52,
     "metadata": {},
     "output_type": "execute_result"
    }
   ],
   "source": [
    "network.set_pois(category='parks',maxdist=distance, maxitems = num_pois, x_col=parks_shp['E'], y_col=parks_shp['N'])\n",
    "\n",
    "all_access = network.nearest_pois(distance=distance, category='parks', num_pois=num_pois)\n",
    "print('{:,} nodes'.format(len(all_access)))\n",
    "all_access.head()"
   ]
  },
  {
   "cell_type": "code",
   "execution_count": 53,
   "metadata": {},
   "outputs": [],
   "source": [
    "fig_kwargs={'figsize': [10, 10]}\n",
    "bmap_kwargs={'suppress_ticks': False,'epsg': '4326'}\n",
    "plot_kwargs={'cmap': 'viridis', 's': 8, 'edgecolor': 'none'}\n",
    "hex_plot_kwargs = {'gridsize':40,\n",
    "                   'alpha':0.9, \n",
    "                   'cmap':'viridis_r', \n",
    "                   'edgecolor':'none'}"
   ]
  },
  {
   "cell_type": "code",
   "execution_count": 55,
   "metadata": {},
   "outputs": [
    {
     "data": {
      "image/png": "[encoded data removed]",
      "text/plain": [
       "<Figure size 720x720 with 2 Axes>"
      ]
     },
     "metadata": {
      "needs_background": "light"
     },
     "output_type": "display_data"
    }
   ],
   "source": [
    "# distance to the nearest amenity of any type\n",
    "n = 5\n",
    "bmap, fig, ax = network.plot(all_access[n], plot_kwargs=plot_kwargs, fig_kwargs=fig_kwargs)\n",
    "ax.set_facecolor('k')\n",
    "ax.set_title('Distance to business amenities (fifth nearest amenity, meters)', fontsize=14);"
   ]
  },
  {
   "cell_type": "code",
   "execution_count": null,
   "metadata": {},
   "outputs": [],
   "source": []
  }
 ],
 "metadata": {
  "kernelspec": {
   "display_name": "OSMPython",
   "language": "python",
   "name": "osmpython"
  },
  "language_info": {
   "codemirror_mode": {
    "name": "ipython",
    "version": 3
   },
   "file_extension": ".py",
   "mimetype": "text/x-python",
   "name": "python",
   "nbconvert_exporter": "python",
   "pygments_lexer": "ipython3",
   "version": "3.6.7"
  }
 },
 "nbformat": 4,
 "nbformat_minor": 2
}
